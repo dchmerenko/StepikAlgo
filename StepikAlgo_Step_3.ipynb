{
  "nbformat": 4,
  "nbformat_minor": 0,
  "metadata": {
    "colab": {
      "name": "StepikAlgo Step 3.ipynb",
      "provenance": [],
      "authorship_tag": "ABX9TyOysmRG9vy01wba5tJVOl/6",
      "include_colab_link": true
    },
    "kernelspec": {
      "name": "python3",
      "display_name": "Python 3"
    },
    "language_info": {
      "name": "python"
    }
  },
  "cells": [
    {
      "cell_type": "markdown",
      "metadata": {
        "id": "view-in-github",
        "colab_type": "text"
      },
      "source": [
        "<a href=\"https://colab.research.google.com/github/dchmerenko/StepikAlgo/blob/main/StepikAlgo_Step_3.ipynb\" target=\"_parent\"><img src=\"https://colab.research.google.com/assets/colab-badge.svg\" alt=\"Open In Colab\"/></a>"
      ]
    },
    {
      "cell_type": "markdown",
      "metadata": {
        "id": "JZpRtP3Hc1by"
      },
      "source": [
        "### Explore Fibonacci number calculation  \n",
        "[StepikAlgo Step 3](https://stepik.org/lesson/13236/step/6?unit=3422)"
      ]
    },
    {
      "cell_type": "code",
      "metadata": {
        "id": "bkLGsmTlW_N8"
      },
      "source": [
        "# Simple fibs calculation\n",
        "\n",
        "def fib1(n):\n",
        "    assert n >= 0\n",
        "    return n if n <= 1 else fib1(n - 1) + fib1(n - 2)"
      ],
      "execution_count": 2,
      "outputs": []
    },
    {
      "cell_type": "code",
      "metadata": {
        "colab": {
          "base_uri": "https://localhost:8080/"
        },
        "id": "2JoNhmuhXEvS",
        "outputId": "948f1a2c-8d56-43e9-98b4-4c0caadf8d1e"
      },
      "source": [
        "# Check fib(8) == 21\n",
        "\n",
        "fib1(8)"
      ],
      "execution_count": 3,
      "outputs": [
        {
          "output_type": "execute_result",
          "data": {
            "text/plain": [
              "21"
            ]
          },
          "metadata": {},
          "execution_count": 3
        }
      ]
    },
    {
      "cell_type": "code",
      "metadata": {
        "id": "E-5eSYJWXIzN"
      },
      "source": [
        "# Iterative fibs calculation\n",
        "\n",
        "def fib3(n):\n",
        "    assert n >= 0\n",
        "    f0, f1 = 0, 1\n",
        "    for i in range(n - 1):\n",
        "        f0, f1 = f1, f0 + f1\n",
        "    return f1"
      ],
      "execution_count": 4,
      "outputs": []
    },
    {
      "cell_type": "code",
      "metadata": {
        "colab": {
          "base_uri": "https://localhost:8080/"
        },
        "id": "99SxVkQIXOuK",
        "outputId": "cbf87e1d-03f3-4fd3-c480-c9c7333e952a"
      },
      "source": [
        "# Check fib(8) == 21\n",
        "\n",
        "fib3(8)"
      ],
      "execution_count": 5,
      "outputs": [
        {
          "output_type": "execute_result",
          "data": {
            "text/plain": [
              "21"
            ]
          },
          "metadata": {},
          "execution_count": 5
        }
      ]
    },
    {
      "cell_type": "code",
      "metadata": {
        "id": "R4R-1vk_XWOB"
      },
      "source": [
        "# Timing\n",
        "\n",
        "import time\n",
        "\n",
        "def timed(f, *args, n_iter=100):\n",
        "    acc = float(\"inf\")\n",
        "    for i in range(n_iter):\n",
        "        t0 = time.perf_counter()\n",
        "        f(*args)\n",
        "        t1 = time.perf_counter()\n",
        "        acc = min(acc, t1 - t0)\n",
        "    return acc"
      ],
      "execution_count": 6,
      "outputs": []
    },
    {
      "cell_type": "code",
      "metadata": {
        "colab": {
          "base_uri": "https://localhost:8080/"
        },
        "id": "oL2pF7bnXcHq",
        "outputId": "7466376d-6988-4340-a9a4-d733af1aaf6b"
      },
      "source": [
        "timed(fib3, 800)  # ~ 60 microsec"
      ],
      "execution_count": 7,
      "outputs": [
        {
          "output_type": "execute_result",
          "data": {
            "text/plain": [
              "6.81209999697785e-05"
            ]
          },
          "metadata": {},
          "execution_count": 7
        }
      ]
    },
    {
      "cell_type": "code",
      "metadata": {
        "id": "ijGJNpuAWoCT"
      },
      "source": [
        "# Making a compare plot\n",
        "\n",
        "from matplotlib import pyplot as plt\n",
        "\n",
        "def compare(fs, args):\n",
        "    for f in fs:\n",
        "        plt.plot(args, [timed(f, arg) for arg in args], label=f.__name__)\n",
        "        plt.legend()\n",
        "        plt.grid(True)\n",
        "    plt.show()"
      ],
      "execution_count": 1,
      "outputs": []
    },
    {
      "cell_type": "code",
      "metadata": {
        "colab": {
          "base_uri": "https://localhost:8080/",
          "height": 267
        },
        "id": "omJ8bjKdXTqp",
        "outputId": "65046415-14b0-45cb-a9fb-70a371199790"
      },
      "source": [
        "# fib1 grows exponentially\n",
        "\n",
        "compare([fib1, fib3], list(range(25)))"
      ],
      "execution_count": 10,
      "outputs": [
        {
          "output_type": "display_data",
          "data": {
            "image/png": "[encoded data removed]",
            "text/plain": [
              "<Figure size 432x288 with 1 Axes>"
            ]
          },
          "metadata": {
            "needs_background": "light"
          }
        }
      ]
    },
    {
      "cell_type": "code",
      "metadata": {
        "colab": {
          "base_uri": "https://localhost:8080/",
          "height": 265
        },
        "id": "PtRg2OsXchbl",
        "outputId": "1ec252ba-76c0-4a71-ed6e-cf569325aa53"
      },
      "source": [
        "# fib3 grows linearly\n",
        "\n",
        "compare([fib3], list(range(2000)))"
      ],
      "execution_count": 12,
      "outputs": [
        {
          "output_type": "display_data",
          "data": {
            "image/png": "[encoded data removed]",
            "text/plain": [
              "<Figure size 432x288 with 1 Axes>"
            ]
          },
          "metadata": {
            "needs_background": "light"
          }
        }
      ]
    },
    {
      "cell_type": "code",
      "metadata": {
        "id": "zHx3AkPtcpOj"
      },
      "source": [
        ""
      ],
      "execution_count": null,
      "outputs": []
    }
  ]
}